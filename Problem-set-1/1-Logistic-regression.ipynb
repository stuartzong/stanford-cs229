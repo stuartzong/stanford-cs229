{
 "cells": [
  {
   "cell_type": "markdown",
   "metadata": {},
   "source": [
    "http://cs229.stanford.edu/ps/ps1/ps1.pdf"
   ]
  },
  {
   "cell_type": "markdown",
   "metadata": {},
   "source": [
    "# (a)"
   ]
  },
  {
   "cell_type": "markdown",
   "metadata": {},
   "source": [
    "i have editted to this file on 20190111"
   ]
  },
  {
   "cell_type": "markdown",
   "metadata": {},
   "source": [
    "Use $(k)$ instead of $(i)$ for indexing data point to avoid confusion later, and use $i$ and $j$ to index the dimensions of $x$. Suppose the $x^{(k)}$ is a $n$-dimension vector."
   ]
  },
  {
   "cell_type": "markdown",
   "metadata": {},
   "source": [
    "\\begin{align*}\n",
    "J(\\theta) &= \\frac{1}{m} \\sum_{k=1}^{m} \\mathrm{log}\\big(1 + e ^{-y^{(k)} \\theta^T x^{(k)}}\\big) \\\\\n",
    "               &= - \\frac{1}{m} \\sum_{k=1}^{m} \\mathrm{log}\\big(g(z^{(k)})\\big)\n",
    "\\end{align*}"
   ]
  },
  {
   "cell_type": "markdown",
   "metadata": {},
   "source": [
    "where $g(z^{(k)}) = \\frac{1}{1 + e^{-z^{(k)}}}$ and $z^{(k)} = y^{(k)} \\theta^T x^{(k)}$. \n",
    "\n",
    "For clarity, in the following derivation, $z = z^{(k)}$."
   ]
  },
  {
   "cell_type": "markdown",
   "metadata": {},
   "source": [
    "Note that"
   ]
  },
  {
   "cell_type": "markdown",
   "metadata": {},
   "source": [
    "\\begin{align*}\n",
    "\\frac{\\partial g}{\\partial z} \n",
    "&=\\frac{\\partial \\frac{1}{1 + e^{-z}}}{\\partial z} \\\\\n",
    "&=\\frac{e^{-z}}{(1 + e^{-z})^2} \\\\\n",
    "&=\\frac{1}{1 + e^{-z}} \\cdot \\frac{e^{-z}}{1 + e^{-z}} \\\\\n",
    "&=g(1 - g)\n",
    "\\end{align*}"
   ]
  },
  {
   "cell_type": "markdown",
   "metadata": {},
   "source": [
    "and similarly (unnecessary for this problem, just put here for reference),\n",
    "\n",
    "\\begin{align*}\n",
    "\\frac{\\partial (1 - g)}{\\partial z} \n",
    "= \\frac{\\partial \\frac{e^{-z}}{1 + e^{-z}}}{\\partial z}\n",
    "= - \\frac{\\partial g}{\\partial z} = g(g - 1)\n",
    "\\end{align*}"
   ]
  },
  {
   "cell_type": "markdown",
   "metadata": {},
   "source": [
    "So\n",
    "\n",
    "\\begin{align*}\n",
    "\\frac{\\partial J}{\\partial \\theta_i} \n",
    " &= -\\frac{1}{m} \\sum_{k=1}^{m} \\frac{1}{g(z)} \\frac{\\partial g(z)}{\\partial z} \\frac{\\partial z(\\theta_i)}{\\partial \\theta_i}  \\\\\n",
    " &= -\\frac{1}{m} \\sum_{k=1}^{m} \\frac{1}{g(z)} g(z) (1 - g(z)) \\frac{\\partial z}{\\partial \\theta_i}  \\\\\n",
    " &= -\\frac{1}{m} \\sum_{k=1}^{m} \\big(1 - g(z) \\big) \\frac{\\partial z}{\\partial \\theta_i}  \\\\\n",
    " &= -\\frac{1}{m} \\sum_{k=1}^{m} \\big(1 - g(z) \\big) y^{(k)} x_i^{(k)}  \\\\\n",
    " &= \\frac{1}{m} \\sum_{k=1}^{m} \\big(g(z) - 1 \\big) y^{(k)} x_i^{(k)}  \\\\\n",
    "\\end{align*}\n"
   ]
  },
  {
   "cell_type": "markdown",
   "metadata": {},
   "source": [
    "Then,\n",
    "\n",
    "\\begin{align*}\n",
    "H_{ij} = \\frac{\\partial J}{\\partial \\theta_i \\partial \\theta_j} \n",
    "&= \\frac{1}{m} \\sum_{k=1}^{m} \\frac{\\partial (g(z)  - 1)}{\\partial \\theta_j} y^{(k)} x_i^{(k)} \\\\\n",
    "&= \\frac{1}{m} \\sum_{k=1}^{m} \\frac {\\partial g(z)}{\\partial \\theta_j} y^{(k)} x_i^{(k)} \\\\\n",
    "&= \\frac{1}{m} \\sum_{k=1}^{m} g(z)\\big(1 - g(z)\\big) \\frac{\\partial z}{\\partial \\theta_j} y^{(k)} x_i^{(k)} \\\\\n",
    "&= \\frac{1}{m} \\sum_{k=1}^{m} g(z)\\big(1 - g(z)\\big) y^{(k)} x_j^{(k)} y^{(k)} x_i^{(k)} \\\\\n",
    "&= \\frac{1}{m} \\sum_{k=1}^{m} g(z)\\big(1 - g(z)\\big) x_i^{(k)} x_j^{(k)} \\\\\n",
    "\\end{align*}"
   ]
  },
  {
   "cell_type": "markdown",
   "metadata": {},
   "source": [
    "Lastly,\n",
    "\n",
    "\\begin{align*}\n",
    "z^THz &= \\sum_{i=1}^{n} \\sum_{j=1}^{n} z_i H_{ij} z_j \\\\\n",
    "           &= \\sum_{i=1}^{n} \\sum_{j=1}^{n} \\big[z_i \\frac{1}{m} \\sum_{k=1}^{m} g(z)\\big(1 - g(z)\\big) x_i^{(k)} x_j^{(k)}\\big] z_j \\\\\n",
    "           &= \\frac{1}{m} \\sum_{k=1}^{m} g(z)\\big(1 - g(z)\\big) \\sum_{i=1}^{n} \\sum_{j=1}^{n} z_i x_i^{(k)} x_j^{(k)} z_j\n",
    "\\end{align*}"
   ]
  },
  {
   "cell_type": "markdown",
   "metadata": {},
   "source": [
    "Given that $1 > g(z) > 0$ and $\\sum_{i=1}^{n} \\sum_{j=1}^{n} z_i x_i^{(k)} x_j^{(k)} z_j = ((x^{(k)})^T z)^2 \\ge 0$, \n",
    "\n",
    "$z^T H z \\ge 0$, so $H$ is PSD, i.e. $H \\succeq 0$. \n",
    "\n",
    "Hence, $J$ is convex and it has no local minima."
   ]
  },
  {
   "cell_type": "markdown",
   "metadata": {
    "collapsed": true
   },
   "source": [
    "# (b) Implement Newton's method for logistic regression"
   ]
  },
  {
   "cell_type": "code",
   "execution_count": 10,
   "metadata": {},
   "outputs": [],
   "source": [
    "import numpy as np\n",
    "import pandas as pd\n",
    "import seaborn as sns\n",
    "import matplotlib.pyplot as plt\n",
    "\n",
    "%matplotlib inline"
   ]
  },
  {
   "cell_type": "code",
   "execution_count": 45,
   "metadata": {},
   "outputs": [
    {
     "data": {
      "text/html": [
       "<div>\n",
       "<style scoped>\n",
       "    .dataframe tbody tr th:only-of-type {\n",
       "        vertical-align: middle;\n",
       "    }\n",
       "\n",
       "    .dataframe tbody tr th {\n",
       "        vertical-align: top;\n",
       "    }\n",
       "\n",
       "    .dataframe thead th {\n",
       "        text-align: right;\n",
       "    }\n",
       "</style>\n",
       "<table border=\"1\" class=\"dataframe\">\n",
       "  <thead>\n",
       "    <tr style=\"text-align: right;\">\n",
       "      <th></th>\n",
       "      <th>x1</th>\n",
       "      <th>x2</th>\n",
       "      <th>y</th>\n",
       "      <th>b</th>\n",
       "    </tr>\n",
       "  </thead>\n",
       "  <tbody>\n",
       "    <tr>\n",
       "      <th>0</th>\n",
       "      <td>1.343250</td>\n",
       "      <td>-1.331148</td>\n",
       "      <td>-1</td>\n",
       "      <td>1</td>\n",
       "    </tr>\n",
       "    <tr>\n",
       "      <th>1</th>\n",
       "      <td>1.820553</td>\n",
       "      <td>-0.634668</td>\n",
       "      <td>-1</td>\n",
       "      <td>1</td>\n",
       "    </tr>\n",
       "  </tbody>\n",
       "</table>\n",
       "</div>"
      ],
      "text/plain": [
       "         x1        x2  y  b\n",
       "0  1.343250 -1.331148 -1  1\n",
       "1  1.820553 -0.634668 -1  1"
      ]
     },
     "execution_count": 45,
     "metadata": {},
     "output_type": "execute_result"
    }
   ],
   "source": [
    "df_X = pd.read_csv('./data/logistic_x.txt', sep='\\ +', header=None, engine='python')\n",
    "df_X.columns = ['x1', 'x2']\n",
    "ys = pd.read_csv('./data/logistic_y.txt', sep='\\ +', header=None, engine='python')\n",
    "ys = ys.astype(int)\n",
    "df_X['y'] = ys[0].values\n",
    "df_X['b'] = 1\n",
    "df_X.head(2)"
   ]
  },
  {
   "cell_type": "markdown",
   "metadata": {},
   "source": [
    "Hessian matrix is the second partial derivatives, f(x1, x2, ... xn), H is a nxn matrix.\n",
    "$H_{ij}= \\frac{\\partial ^2f}{\\partial x_i\\partial x_j}$ "
   ]
  },
  {
   "cell_type": "markdown",
   "metadata": {},
   "source": [
    "Quick look at the data"
   ]
  },
  {
   "cell_type": "code",
   "execution_count": 38,
   "metadata": {},
   "outputs": [
    {
     "data": {
      "text/plain": [
       "<matplotlib.axes._subplots.AxesSubplot at 0x7fa5c4bd87f0>"
      ]
     },
     "execution_count": 38,
     "metadata": {},
     "output_type": "execute_result"
    },
    {
     "data": {
      "image/png": "[encoded data removed]",
      "text/plain": [
       "<Figure size 432x288 with 1 Axes>"
      ]
     },
     "metadata": {},
     "output_type": "display_data"
    }
   ],
   "source": [
    "sns.scatterplot(x='x1', y='x2', data=df_X, hue='y', palette=['blue', 'red'])"
   ]
  },
  {
   "cell_type": "markdown",
   "metadata": {},
   "source": [
    "Newton's method addresses getting to $f(\\theta) = 0$, and minimizing $J(\\theta)$ means getting $\\frac{\\partial J}{\\partial \\theta}$ to 0. There after applying Newton's method, extending it to multidimensional setting (Newton-Raphson method), the update rule becomes:\n",
    "\n",
    "\\begin{align*}\n",
    "\\theta &:= \\theta - \\frac{\\partial J(\\theta) / \\partial \\theta} {H} \\\\\n",
    "       &:= \\theta - \\frac{\\nabla_{\\theta} J(\\theta)} {H} \\\\\n",
    "       &:= \\theta - H^{-1} \\nabla_{\\theta} J(\\theta)\n",
    "\\end{align*}\n",
    "\n",
    "Note, the $H$ in the denominator may not be a valid mathematical expression as it is actually an inverse operation."
   ]
  },
  {
   "cell_type": "markdown",
   "metadata": {},
   "source": [
    "Copied equations from above:\n",
    "\n",
    "$$z^{(k)} = y^{(k)} \\theta^T x^{(k)}$$\n",
    "\n",
    "$$g(z^{(k)}) = \\frac{1}{1 + e^{-z^{(k)}}}$$\n",
    "\n",
    "$$\n",
    "\\frac{\\partial J}{\\partial \\theta_i} \n",
    " = \\frac{1}{m} \\sum_{k=1}^{m} \\big(g(z^{(k)}) - 1\\big) y^{(k)} x_i^{(k)}\n",
    "$$\n",
    "\n",
    "$$\n",
    "H_{ij} = \\frac{1}{m} \\sum_{k=1}^{m} g(z^{(k)})\\big(1 - g(z^{(k)})\\big) x_i^{(k)} x_j^{(k)}\n",
    "$$"
   ]
  },
  {
   "cell_type": "code",
   "execution_count": 53,
   "metadata": {},
   "outputs": [],
   "source": [
    "Xs = df_X[['b', 'x1', 'x2']].values\n",
    "Xs[:2]\n",
    "ys = df_X['y'].values"
   ]
  },
  {
   "cell_type": "code",
   "execution_count": 54,
   "metadata": {},
   "outputs": [
    {
     "name": "stdout",
     "output_type": "stream",
     "text": [
      "[ 0.00505051 -0.48150553 -0.55483063]\n",
      "[ 0.00051294 -0.11086799 -0.13284818]\n",
      "[ 0.00076052 -0.02500992 -0.03614105]\n",
      "[ 0.00022389 -0.00287113 -0.00543379]\n",
      "[ 1.04639130e-05 -6.52173238e-05 -1.73346302e-04]\n",
      "[ 1.45360119e-08 -4.47840141e-08 -1.84164565e-07]\n",
      "[ 1.95085250e-14 -2.63627504e-14 -2.02590470e-13]\n",
      "converged after 7 iterations\n"
     ]
    }
   ],
   "source": [
    "all_thetas = [] # collect for demonstration purpose\n",
    "theta = np.zeros(Xs.shape[1])\n",
    "tol = 1e9\n",
    "n_iters = 0\n",
    "while tol > 1e-6:\n",
    "    zs = ys * Xs.dot(theta)\n",
    "    gzs = 1 / (1 + np.exp(-zs))\n",
    "    nabla = np.mean((gzs - 1) * ys * Xs.T, axis=1)\n",
    "    print(nabla)\n",
    "    # Refactor, more efficient way of calculating hessian\n",
    "    hessian = np.zeros((Xs.shape[1], Xs.shape[1]))\n",
    "    for i in range(hessian.shape[0]):\n",
    "        for j in range(hessian.shape[0]):\n",
    "            if i <= j:\n",
    "                hessian[i][j] = np.mean(gzs * (1 - gzs) * Xs[:,i] * Xs[:,j])\n",
    "                if i != j:\n",
    "                    hessian[j][i] = hessian[i][j]\n",
    "            \n",
    "    delta = np.linalg.inv(hessian).dot(nabla)\n",
    "    old_theta = theta.copy()\n",
    "    theta -= delta\n",
    "    all_thetas.append(theta.copy())\n",
    "    n_iters += 1\n",
    "    tol = np.sum(np.abs(theta - old_theta))\n",
    "print('converged after {0} iterations'.format(n_iters))"
   ]
  },
  {
   "cell_type": "code",
   "execution_count": 56,
   "metadata": {},
   "outputs": [
    {
     "data": {
      "text/plain": [
       "<matplotlib.legend.Legend at 0x7fa5c48af2b0>"
      ]
     },
     "execution_count": 56,
     "metadata": {},
     "output_type": "execute_result"
    },
    {
     "data": {
      "image/png": "[encoded data removed]",
      "text/plain": [
       "<Figure size 432x288 with 1 Axes>"
      ]
     },
     "metadata": {},
     "output_type": "display_data"
    }
   ],
   "source": [
    "ax = plt.axes()\n",
    "sns.scatterplot(x='x1', y='x2', data=df_X, hue='y', palette=['blue', 'red'])\n",
    "_xs = np.array([np.min(Xs[:,1]), np.max(Xs[:,1])])\n",
    "for k, theta in enumerate(all_thetas):\n",
    "    _ys = (theta[0] + theta[1] * _xs) / (- theta[2])\n",
    "    plt.plot(_xs, _ys, label='iter {0}'.format(k + 1), lw=0.5)\n",
    "plt.legend(bbox_to_anchor=(1.04,1), loc=\"upper left\")"
   ]
  },
  {
   "cell_type": "markdown",
   "metadata": {},
   "source": [
    "Since all the lines are so close to each other, Newton's method converges very quickly, at least for this dataset."
   ]
  }
 ],
 "metadata": {
  "anaconda-cloud": {},
  "kernelspec": {
   "display_name": "Python 3",
   "language": "python",
   "name": "python3"
  },
  "language_info": {
   "codemirror_mode": {
    "name": "ipython",
    "version": 3
   },
   "file_extension": ".py",
   "mimetype": "text/x-python",
   "name": "python",
   "nbconvert_exporter": "python",
   "pygments_lexer": "ipython3",
   "version": "3.6.7"
  }
 },
 "nbformat": 4,
 "nbformat_minor": 1
}
